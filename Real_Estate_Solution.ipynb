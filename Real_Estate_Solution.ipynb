{
  "cells": [
    {
      "cell_type": "markdown",
      "metadata": {
        "id": "2-Gwity-gHiz"
      },
      "source": [
        "# Model Training"
      ]
    },
    {
      "cell_type": "markdown",
      "metadata": {
        "id": "AxNwUIsQgHi0"
      },
      "source": [
        "### scikit - learn\n",
        "\n",
        "https://scikit-learn.org/stable/\n",
        "\n",
        "scikitlearn (sklearn) provides simple and efficient tools for predictive data analysis. It is built on NumPy, SciPy, and matplotlib."
      ]
    },
    {
      "cell_type": "markdown",
      "metadata": {
        "id": "eG6qGnPngHi1"
      },
      "source": [
        "First thing, Import all the libraries"
      ]
    },
    {
      "cell_type": "code",
      "execution_count": 1,
      "metadata": {
        "id": "Vgez9u1EgHi1"
      },
      "outputs": [],
      "source": [
        "import pandas as pd\n",
        "import numpy as np\n",
        "import matplotlib.pyplot as plt\n",
        "%matplotlib inline\n",
        "pd.set_option('display.max_columns', 50)"
      ]
    },
    {
      "cell_type": "code",
      "execution_count": 3,
      "metadata": {
        "colab": {
          "base_uri": "https://localhost:8080/",
          "height": 226
        },
        "id": "dgooU9oygHi1",
        "outputId": "a140c58f-3259-456d-9f3c-2dd65dac72b1",
        "scrolled": true
      },
      "outputs": [
        {
          "data": {
            "text/html": [
              "<div>\n",
              "<style scoped>\n",
              "    .dataframe tbody tr th:only-of-type {\n",
              "        vertical-align: middle;\n",
              "    }\n",
              "\n",
              "    .dataframe tbody tr th {\n",
              "        vertical-align: top;\n",
              "    }\n",
              "\n",
              "    .dataframe thead th {\n",
              "        text-align: right;\n",
              "    }\n",
              "</style>\n",
              "<table border=\"1\" class=\"dataframe\">\n",
              "  <thead>\n",
              "    <tr style=\"text-align: right;\">\n",
              "      <th></th>\n",
              "      <th>price</th>\n",
              "      <th>year_sold</th>\n",
              "      <th>property_tax</th>\n",
              "      <th>insurance</th>\n",
              "      <th>beds</th>\n",
              "      <th>baths</th>\n",
              "      <th>sqft</th>\n",
              "      <th>year_built</th>\n",
              "      <th>lot_size</th>\n",
              "      <th>basement</th>\n",
              "      <th>popular</th>\n",
              "      <th>recession</th>\n",
              "      <th>property_age</th>\n",
              "      <th>property_type_Bunglow</th>\n",
              "      <th>property_type_Condo</th>\n",
              "    </tr>\n",
              "  </thead>\n",
              "  <tbody>\n",
              "    <tr>\n",
              "      <th>0</th>\n",
              "      <td>295850</td>\n",
              "      <td>2013</td>\n",
              "      <td>234</td>\n",
              "      <td>81</td>\n",
              "      <td>1</td>\n",
              "      <td>1</td>\n",
              "      <td>584</td>\n",
              "      <td>2013</td>\n",
              "      <td>0</td>\n",
              "      <td>0</td>\n",
              "      <td>0</td>\n",
              "      <td>1</td>\n",
              "      <td>0</td>\n",
              "      <td>0</td>\n",
              "      <td>1</td>\n",
              "    </tr>\n",
              "    <tr>\n",
              "      <th>1</th>\n",
              "      <td>216500</td>\n",
              "      <td>2006</td>\n",
              "      <td>169</td>\n",
              "      <td>51</td>\n",
              "      <td>1</td>\n",
              "      <td>1</td>\n",
              "      <td>612</td>\n",
              "      <td>1965</td>\n",
              "      <td>0</td>\n",
              "      <td>1</td>\n",
              "      <td>0</td>\n",
              "      <td>0</td>\n",
              "      <td>41</td>\n",
              "      <td>0</td>\n",
              "      <td>1</td>\n",
              "    </tr>\n",
              "    <tr>\n",
              "      <th>2</th>\n",
              "      <td>279900</td>\n",
              "      <td>2012</td>\n",
              "      <td>216</td>\n",
              "      <td>74</td>\n",
              "      <td>1</td>\n",
              "      <td>1</td>\n",
              "      <td>615</td>\n",
              "      <td>1963</td>\n",
              "      <td>0</td>\n",
              "      <td>0</td>\n",
              "      <td>0</td>\n",
              "      <td>1</td>\n",
              "      <td>49</td>\n",
              "      <td>0</td>\n",
              "      <td>1</td>\n",
              "    </tr>\n",
              "    <tr>\n",
              "      <th>3</th>\n",
              "      <td>379900</td>\n",
              "      <td>2005</td>\n",
              "      <td>265</td>\n",
              "      <td>92</td>\n",
              "      <td>1</td>\n",
              "      <td>1</td>\n",
              "      <td>618</td>\n",
              "      <td>2000</td>\n",
              "      <td>33541</td>\n",
              "      <td>0</td>\n",
              "      <td>0</td>\n",
              "      <td>0</td>\n",
              "      <td>5</td>\n",
              "      <td>0</td>\n",
              "      <td>1</td>\n",
              "    </tr>\n",
              "    <tr>\n",
              "      <th>4</th>\n",
              "      <td>340000</td>\n",
              "      <td>2002</td>\n",
              "      <td>88</td>\n",
              "      <td>30</td>\n",
              "      <td>1</td>\n",
              "      <td>1</td>\n",
              "      <td>634</td>\n",
              "      <td>1992</td>\n",
              "      <td>0</td>\n",
              "      <td>0</td>\n",
              "      <td>0</td>\n",
              "      <td>0</td>\n",
              "      <td>10</td>\n",
              "      <td>0</td>\n",
              "      <td>1</td>\n",
              "    </tr>\n",
              "  </tbody>\n",
              "</table>\n",
              "</div>"
            ],
            "text/plain": [
              "    price  year_sold  property_tax  insurance  beds  baths  sqft  year_built  \\\n",
              "0  295850       2013           234         81     1      1   584        2013   \n",
              "1  216500       2006           169         51     1      1   612        1965   \n",
              "2  279900       2012           216         74     1      1   615        1963   \n",
              "3  379900       2005           265         92     1      1   618        2000   \n",
              "4  340000       2002            88         30     1      1   634        1992   \n",
              "\n",
              "   lot_size  basement  popular  recession  property_age  \\\n",
              "0         0         0        0          1             0   \n",
              "1         0         1        0          0            41   \n",
              "2         0         0        0          1            49   \n",
              "3     33541         0        0          0             5   \n",
              "4         0         0        0          0            10   \n",
              "\n",
              "   property_type_Bunglow  property_type_Condo  \n",
              "0                      0                    1  \n",
              "1                      0                    1  \n",
              "2                      0                    1  \n",
              "3                      0                    1  \n",
              "4                      0                    1  "
            ]
          },
          "execution_count": 3,
          "metadata": {},
          "output_type": "execute_result"
        }
      ],
      "source": [
        "# next load the data\n",
        "df = pd.read_csv('final.csv')\n",
        "df.head()"
      ]
    },
    {
      "cell_type": "code",
      "execution_count": 4,
      "metadata": {
        "colab": {
          "base_uri": "https://localhost:8080/",
          "height": 226
        },
        "id": "HrjjVZjVhayp",
        "outputId": "24fedb92-d454-47fe-eef6-0f486b4d301c"
      },
      "outputs": [
        {
          "data": {
            "text/html": [
              "<div>\n",
              "<style scoped>\n",
              "    .dataframe tbody tr th:only-of-type {\n",
              "        vertical-align: middle;\n",
              "    }\n",
              "\n",
              "    .dataframe tbody tr th {\n",
              "        vertical-align: top;\n",
              "    }\n",
              "\n",
              "    .dataframe thead th {\n",
              "        text-align: right;\n",
              "    }\n",
              "</style>\n",
              "<table border=\"1\" class=\"dataframe\">\n",
              "  <thead>\n",
              "    <tr style=\"text-align: right;\">\n",
              "      <th></th>\n",
              "      <th>price</th>\n",
              "      <th>year_sold</th>\n",
              "      <th>property_tax</th>\n",
              "      <th>insurance</th>\n",
              "      <th>beds</th>\n",
              "      <th>baths</th>\n",
              "      <th>sqft</th>\n",
              "      <th>year_built</th>\n",
              "      <th>lot_size</th>\n",
              "      <th>basement</th>\n",
              "      <th>popular</th>\n",
              "      <th>recession</th>\n",
              "      <th>property_age</th>\n",
              "      <th>property_type_Bunglow</th>\n",
              "      <th>property_type_Condo</th>\n",
              "    </tr>\n",
              "  </thead>\n",
              "  <tbody>\n",
              "    <tr>\n",
              "      <th>1858</th>\n",
              "      <td>760000</td>\n",
              "      <td>2008</td>\n",
              "      <td>881</td>\n",
              "      <td>249</td>\n",
              "      <td>5</td>\n",
              "      <td>5</td>\n",
              "      <td>7842</td>\n",
              "      <td>2003</td>\n",
              "      <td>436035</td>\n",
              "      <td>1</td>\n",
              "      <td>0</td>\n",
              "      <td>0</td>\n",
              "      <td>5</td>\n",
              "      <td>1</td>\n",
              "      <td>0</td>\n",
              "    </tr>\n",
              "    <tr>\n",
              "      <th>1859</th>\n",
              "      <td>690000</td>\n",
              "      <td>2015</td>\n",
              "      <td>1553</td>\n",
              "      <td>473</td>\n",
              "      <td>5</td>\n",
              "      <td>6</td>\n",
              "      <td>6501</td>\n",
              "      <td>1956</td>\n",
              "      <td>23086</td>\n",
              "      <td>1</td>\n",
              "      <td>0</td>\n",
              "      <td>0</td>\n",
              "      <td>59</td>\n",
              "      <td>1</td>\n",
              "      <td>0</td>\n",
              "    </tr>\n",
              "    <tr>\n",
              "      <th>1860</th>\n",
              "      <td>600000</td>\n",
              "      <td>1999</td>\n",
              "      <td>942</td>\n",
              "      <td>287</td>\n",
              "      <td>5</td>\n",
              "      <td>6</td>\n",
              "      <td>7064</td>\n",
              "      <td>1995</td>\n",
              "      <td>217800</td>\n",
              "      <td>1</td>\n",
              "      <td>0</td>\n",
              "      <td>0</td>\n",
              "      <td>4</td>\n",
              "      <td>1</td>\n",
              "      <td>0</td>\n",
              "    </tr>\n",
              "    <tr>\n",
              "      <th>1861</th>\n",
              "      <td>759900</td>\n",
              "      <td>2009</td>\n",
              "      <td>803</td>\n",
              "      <td>245</td>\n",
              "      <td>5</td>\n",
              "      <td>6</td>\n",
              "      <td>7500</td>\n",
              "      <td>2006</td>\n",
              "      <td>8886</td>\n",
              "      <td>1</td>\n",
              "      <td>0</td>\n",
              "      <td>0</td>\n",
              "      <td>3</td>\n",
              "      <td>1</td>\n",
              "      <td>0</td>\n",
              "    </tr>\n",
              "    <tr>\n",
              "      <th>1862</th>\n",
              "      <td>735000</td>\n",
              "      <td>2015</td>\n",
              "      <td>1459</td>\n",
              "      <td>444</td>\n",
              "      <td>5</td>\n",
              "      <td>6</td>\n",
              "      <td>7515</td>\n",
              "      <td>1958</td>\n",
              "      <td>10497</td>\n",
              "      <td>1</td>\n",
              "      <td>0</td>\n",
              "      <td>0</td>\n",
              "      <td>57</td>\n",
              "      <td>1</td>\n",
              "      <td>0</td>\n",
              "    </tr>\n",
              "  </tbody>\n",
              "</table>\n",
              "</div>"
            ],
            "text/plain": [
              "       price  year_sold  property_tax  insurance  beds  baths  sqft  \\\n",
              "1858  760000       2008           881        249     5      5  7842   \n",
              "1859  690000       2015          1553        473     5      6  6501   \n",
              "1860  600000       1999           942        287     5      6  7064   \n",
              "1861  759900       2009           803        245     5      6  7500   \n",
              "1862  735000       2015          1459        444     5      6  7515   \n",
              "\n",
              "      year_built  lot_size  basement  popular  recession  property_age  \\\n",
              "1858        2003    436035         1        0          0             5   \n",
              "1859        1956     23086         1        0          0            59   \n",
              "1860        1995    217800         1        0          0             4   \n",
              "1861        2006      8886         1        0          0             3   \n",
              "1862        1958     10497         1        0          0            57   \n",
              "\n",
              "      property_type_Bunglow  property_type_Condo  \n",
              "1858                      1                    0  \n",
              "1859                      1                    0  \n",
              "1860                      1                    0  \n",
              "1861                      1                    0  \n",
              "1862                      1                    0  "
            ]
          },
          "execution_count": 4,
          "metadata": {},
          "output_type": "execute_result"
        }
      ],
      "source": [
        "df.tail()"
      ]
    },
    {
      "cell_type": "code",
      "execution_count": 5,
      "metadata": {
        "colab": {
          "base_uri": "https://localhost:8080/"
        },
        "id": "dow7Zwd4gHi2",
        "outputId": "487b0b52-f5f6-4817-bcf0-6406dd206458"
      },
      "outputs": [
        {
          "data": {
            "text/plain": [
              "(1863, 15)"
            ]
          },
          "execution_count": 5,
          "metadata": {},
          "output_type": "execute_result"
        }
      ],
      "source": [
        "df.shape"
      ]
    },
    {
      "cell_type": "markdown",
      "metadata": {
        "id": "LNMKUIsagHi2"
      },
      "source": [
        "## Linear Regression Model"
      ]
    },
    {
      "cell_type": "code",
      "execution_count": 6,
      "metadata": {
        "id": "HlhhJpV1gHi2"
      },
      "outputs": [],
      "source": [
        "# import linear regression model\n",
        "from sklearn.linear_model import LinearRegression"
      ]
    },
    {
      "cell_type": "code",
      "execution_count": 7,
      "metadata": {
        "id": "kcvqztZ5gHi2"
      },
      "outputs": [],
      "source": [
        "# seperate input features in x\n",
        "x = df.drop('price', axis=1)\n",
        "\n",
        "# store the target variable in y\n",
        "y = df['price']"
      ]
    },
    {
      "cell_type": "markdown",
      "metadata": {
        "id": "xWoM_0d2gHi2"
      },
      "source": [
        "**Train Test Split**\n",
        "* Training sets are used to fit and tune your models.\n",
        "* Test sets are put aside as \"unseen\" data to evaluate your models.\n",
        "* The `train_test_split()` function splits data into randomized subsets."
      ]
    },
    {
      "cell_type": "code",
      "execution_count": 8,
      "metadata": {
        "id": "vPY9e72sl1dB"
      },
      "outputs": [],
      "source": [
        "# import module\n",
        "from sklearn.model_selection import train_test_split"
      ]
    },
    {
      "cell_type": "code",
      "execution_count": 12,
      "metadata": {
        "colab": {
          "base_uri": "https://localhost:8080/",
          "height": 178
        },
        "id": "cqW-uHMPyBg_",
        "outputId": "d92810a2-af85-4ee4-e691-7205dd56fccb"
      },
      "outputs": [
        {
          "data": {
            "text/plain": [
              "property_type_Bunglow\n",
              "1    849\n",
              "0    641\n",
              "Name: count, dtype: int64"
            ]
          },
          "execution_count": 12,
          "metadata": {},
          "output_type": "execute_result"
        }
      ],
      "source": [
        "x_train.property_type_Bunglow.value_counts()"
      ]
    },
    {
      "cell_type": "code",
      "execution_count": 10,
      "metadata": {
        "id": "dZ5ZswxHgHi2"
      },
      "outputs": [],
      "source": [
        "# Split the dataset\n",
        "x_train, x_test, y_train, y_test = train_test_split(x,y, test_size=0.2, stratify=x.property_type_Bunglow)"
      ]
    },
    {
      "cell_type": "code",
      "execution_count": 11,
      "metadata": {
        "colab": {
          "base_uri": "https://localhost:8080/",
          "height": 226
        },
        "id": "8g-5rzi0m--0",
        "outputId": "57bbc68e-55aa-4ac4-cfa0-11a96fb6bd05"
      },
      "outputs": [
        {
          "data": {
            "text/html": [
              "<div>\n",
              "<style scoped>\n",
              "    .dataframe tbody tr th:only-of-type {\n",
              "        vertical-align: middle;\n",
              "    }\n",
              "\n",
              "    .dataframe tbody tr th {\n",
              "        vertical-align: top;\n",
              "    }\n",
              "\n",
              "    .dataframe thead th {\n",
              "        text-align: right;\n",
              "    }\n",
              "</style>\n",
              "<table border=\"1\" class=\"dataframe\">\n",
              "  <thead>\n",
              "    <tr style=\"text-align: right;\">\n",
              "      <th></th>\n",
              "      <th>year_sold</th>\n",
              "      <th>property_tax</th>\n",
              "      <th>insurance</th>\n",
              "      <th>beds</th>\n",
              "      <th>baths</th>\n",
              "      <th>sqft</th>\n",
              "      <th>year_built</th>\n",
              "      <th>lot_size</th>\n",
              "      <th>basement</th>\n",
              "      <th>popular</th>\n",
              "      <th>recession</th>\n",
              "      <th>property_age</th>\n",
              "      <th>property_type_Bunglow</th>\n",
              "      <th>property_type_Condo</th>\n",
              "    </tr>\n",
              "  </thead>\n",
              "  <tbody>\n",
              "    <tr>\n",
              "      <th>1236</th>\n",
              "      <td>2009</td>\n",
              "      <td>458</td>\n",
              "      <td>139</td>\n",
              "      <td>4</td>\n",
              "      <td>3</td>\n",
              "      <td>2033</td>\n",
              "      <td>1966</td>\n",
              "      <td>14374</td>\n",
              "      <td>1</td>\n",
              "      <td>0</td>\n",
              "      <td>0</td>\n",
              "      <td>43</td>\n",
              "      <td>1</td>\n",
              "      <td>0</td>\n",
              "    </tr>\n",
              "    <tr>\n",
              "      <th>1092</th>\n",
              "      <td>2009</td>\n",
              "      <td>556</td>\n",
              "      <td>169</td>\n",
              "      <td>4</td>\n",
              "      <td>2</td>\n",
              "      <td>2400</td>\n",
              "      <td>1969</td>\n",
              "      <td>13939</td>\n",
              "      <td>1</td>\n",
              "      <td>0</td>\n",
              "      <td>0</td>\n",
              "      <td>40</td>\n",
              "      <td>1</td>\n",
              "      <td>0</td>\n",
              "    </tr>\n",
              "    <tr>\n",
              "      <th>601</th>\n",
              "      <td>2003</td>\n",
              "      <td>471</td>\n",
              "      <td>143</td>\n",
              "      <td>3</td>\n",
              "      <td>2</td>\n",
              "      <td>1858</td>\n",
              "      <td>2003</td>\n",
              "      <td>2242</td>\n",
              "      <td>1</td>\n",
              "      <td>0</td>\n",
              "      <td>0</td>\n",
              "      <td>0</td>\n",
              "      <td>0</td>\n",
              "      <td>1</td>\n",
              "    </tr>\n",
              "    <tr>\n",
              "      <th>476</th>\n",
              "      <td>2004</td>\n",
              "      <td>278</td>\n",
              "      <td>84</td>\n",
              "      <td>3</td>\n",
              "      <td>2</td>\n",
              "      <td>1380</td>\n",
              "      <td>1997</td>\n",
              "      <td>0</td>\n",
              "      <td>1</td>\n",
              "      <td>0</td>\n",
              "      <td>0</td>\n",
              "      <td>7</td>\n",
              "      <td>0</td>\n",
              "      <td>1</td>\n",
              "    </tr>\n",
              "    <tr>\n",
              "      <th>459</th>\n",
              "      <td>2005</td>\n",
              "      <td>389</td>\n",
              "      <td>118</td>\n",
              "      <td>3</td>\n",
              "      <td>2</td>\n",
              "      <td>1340</td>\n",
              "      <td>1965</td>\n",
              "      <td>10497</td>\n",
              "      <td>1</td>\n",
              "      <td>0</td>\n",
              "      <td>0</td>\n",
              "      <td>40</td>\n",
              "      <td>1</td>\n",
              "      <td>0</td>\n",
              "    </tr>\n",
              "  </tbody>\n",
              "</table>\n",
              "</div>"
            ],
            "text/plain": [
              "      year_sold  property_tax  insurance  beds  baths  sqft  year_built  \\\n",
              "1236       2009           458        139     4      3  2033        1966   \n",
              "1092       2009           556        169     4      2  2400        1969   \n",
              "601        2003           471        143     3      2  1858        2003   \n",
              "476        2004           278         84     3      2  1380        1997   \n",
              "459        2005           389        118     3      2  1340        1965   \n",
              "\n",
              "      lot_size  basement  popular  recession  property_age  \\\n",
              "1236     14374         1        0          0            43   \n",
              "1092     13939         1        0          0            40   \n",
              "601       2242         1        0          0             0   \n",
              "476          0         1        0          0             7   \n",
              "459      10497         1        0          0            40   \n",
              "\n",
              "      property_type_Bunglow  property_type_Condo  \n",
              "1236                      1                    0  \n",
              "1092                      1                    0  \n",
              "601                       0                    1  \n",
              "476                       0                    1  \n",
              "459                       1                    0  "
            ]
          },
          "execution_count": 11,
          "metadata": {},
          "output_type": "execute_result"
        }
      ],
      "source": [
        "x_train.head()"
      ]
    },
    {
      "cell_type": "code",
      "execution_count": 13,
      "metadata": {
        "colab": {
          "base_uri": "https://localhost:8080/"
        },
        "id": "-Sdke-9lgHi3",
        "outputId": "3e1af4ad-7b6e-4010-d293-6657037d1657"
      },
      "outputs": [
        {
          "data": {
            "text/plain": [
              "((1490, 14), (1490,), (373, 14), (373,))"
            ]
          },
          "execution_count": 13,
          "metadata": {},
          "output_type": "execute_result"
        }
      ],
      "source": [
        "x_train.shape, y_train.shape, x_test.shape, y_test.shape"
      ]
    },
    {
      "cell_type": "code",
      "execution_count": 14,
      "metadata": {
        "id": "7HmY2tb6oQiu"
      },
      "outputs": [],
      "source": [
        "# train your model\n",
        "model = LinearRegression()\n",
        "lrmodel = model.fit(x_train, y_train)"
      ]
    },
    {
      "cell_type": "code",
      "execution_count": 15,
      "metadata": {
        "colab": {
          "base_uri": "https://localhost:8080/"
        },
        "id": "k4YUaEHooyCo",
        "outputId": "e4f03ed6-00d1-42fb-8a7e-887e7c352bda"
      },
      "outputs": [
        {
          "data": {
            "text/plain": [
              "array([ 7.34324823e+03, -4.61585572e+02,  2.34246240e+03,  6.31574528e+03,\n",
              "        7.44698010e+03,  2.78189673e+01,  4.12513795e+03,  1.87541362e-01,\n",
              "       -5.39701344e+03, -1.17719166e+04, -4.61802293e+04,  3.21811028e+03,\n",
              "        1.04736850e+04, -1.04736850e+04])"
            ]
          },
          "execution_count": 15,
          "metadata": {},
          "output_type": "execute_result"
        }
      ],
      "source": [
        "lrmodel.coef_"
      ]
    },
    {
      "cell_type": "code",
      "execution_count": 16,
      "metadata": {
        "colab": {
          "base_uri": "https://localhost:8080/"
        },
        "id": "ELiVZxw4o83i",
        "outputId": "ca9d9f6a-941d-4f75-f42b-a24a81c4b766"
      },
      "outputs": [
        {
          "data": {
            "text/plain": [
              "-22774052.232095957"
            ]
          },
          "execution_count": 16,
          "metadata": {},
          "output_type": "execute_result"
        }
      ],
      "source": [
        "lrmodel.intercept_"
      ]
    },
    {
      "cell_type": "code",
      "execution_count": 17,
      "metadata": {
        "colab": {
          "base_uri": "https://localhost:8080/",
          "height": 100
        },
        "id": "hlLsxUmepMha",
        "outputId": "2c993c6b-1cb7-4694-e18b-6318d30cb780"
      },
      "outputs": [
        {
          "data": {
            "text/html": [
              "<div>\n",
              "<style scoped>\n",
              "    .dataframe tbody tr th:only-of-type {\n",
              "        vertical-align: middle;\n",
              "    }\n",
              "\n",
              "    .dataframe tbody tr th {\n",
              "        vertical-align: top;\n",
              "    }\n",
              "\n",
              "    .dataframe thead th {\n",
              "        text-align: right;\n",
              "    }\n",
              "</style>\n",
              "<table border=\"1\" class=\"dataframe\">\n",
              "  <thead>\n",
              "    <tr style=\"text-align: right;\">\n",
              "      <th></th>\n",
              "      <th>year_sold</th>\n",
              "      <th>property_tax</th>\n",
              "      <th>insurance</th>\n",
              "      <th>beds</th>\n",
              "      <th>baths</th>\n",
              "      <th>sqft</th>\n",
              "      <th>year_built</th>\n",
              "      <th>lot_size</th>\n",
              "      <th>basement</th>\n",
              "      <th>popular</th>\n",
              "      <th>recession</th>\n",
              "      <th>property_age</th>\n",
              "      <th>property_type_Bunglow</th>\n",
              "      <th>property_type_Condo</th>\n",
              "    </tr>\n",
              "  </thead>\n",
              "  <tbody>\n",
              "    <tr>\n",
              "      <th>1236</th>\n",
              "      <td>2009</td>\n",
              "      <td>458</td>\n",
              "      <td>139</td>\n",
              "      <td>4</td>\n",
              "      <td>3</td>\n",
              "      <td>2033</td>\n",
              "      <td>1966</td>\n",
              "      <td>14374</td>\n",
              "      <td>1</td>\n",
              "      <td>0</td>\n",
              "      <td>0</td>\n",
              "      <td>43</td>\n",
              "      <td>1</td>\n",
              "      <td>0</td>\n",
              "    </tr>\n",
              "  </tbody>\n",
              "</table>\n",
              "</div>"
            ],
            "text/plain": [
              "      year_sold  property_tax  insurance  beds  baths  sqft  year_built  \\\n",
              "1236       2009           458        139     4      3  2033        1966   \n",
              "\n",
              "      lot_size  basement  popular  recession  property_age  \\\n",
              "1236     14374         1        0          0            43   \n",
              "\n",
              "      property_type_Bunglow  property_type_Condo  \n",
              "1236                      1                    0  "
            ]
          },
          "execution_count": 17,
          "metadata": {},
          "output_type": "execute_result"
        }
      ],
      "source": [
        "x_train.head(1)"
      ]
    },
    {
      "cell_type": "code",
      "execution_count": 18,
      "metadata": {
        "id": "ltA5svVPgHi3"
      },
      "outputs": [],
      "source": [
        "# make preditions on train set\n",
        "train_pred = lrmodel.predict(x_train)"
      ]
    },
    {
      "cell_type": "code",
      "execution_count": 19,
      "metadata": {
        "colab": {
          "base_uri": "https://localhost:8080/"
        },
        "id": "DpfRFf9-phrB",
        "outputId": "b32e6231-822e-482f-972d-69bc8b0504ec"
      },
      "outputs": [
        {
          "data": {
            "text/plain": [
              "array([453061.76403569, 483502.33348579, 384769.20746808, ...,\n",
              "       450036.33484415, 286686.20074155, 501451.74620804])"
            ]
          },
          "execution_count": 19,
          "metadata": {},
          "output_type": "execute_result"
        }
      ],
      "source": [
        "train_pred"
      ]
    },
    {
      "cell_type": "code",
      "execution_count": 20,
      "metadata": {
        "colab": {
          "base_uri": "https://localhost:8080/"
        },
        "id": "ZOKrwPAngHi3",
        "outputId": "bf272fa9-ea3b-48f9-fe97-1848cca587a8"
      },
      "outputs": [
        {
          "name": "stdout",
          "output_type": "stream",
          "text": [
            "Train error is 86679.7727921813\n"
          ]
        }
      ],
      "source": [
        "# evaluate your model\n",
        "# we need mean absolute error\n",
        "from sklearn.metrics import mean_absolute_error\n",
        "\n",
        "train_mae = mean_absolute_error(train_pred, y_train)\n",
        "print('Train error is', train_mae)"
      ]
    },
    {
      "cell_type": "code",
      "execution_count": 21,
      "metadata": {
        "id": "lGdW7XTDgHi3",
        "outputId": "5831f2c7-38f4-4384-9ee1-4079cb81a403"
      },
      "outputs": [
        {
          "data": {
            "text/plain": [
              "array([ 7.34324823e+03, -4.61585572e+02,  2.34246240e+03,  6.31574528e+03,\n",
              "        7.44698010e+03,  2.78189673e+01,  4.12513795e+03,  1.87541362e-01,\n",
              "       -5.39701344e+03, -1.17719166e+04, -4.61802293e+04,  3.21811028e+03,\n",
              "        1.04736850e+04, -1.04736850e+04])"
            ]
          },
          "execution_count": 21,
          "metadata": {},
          "output_type": "execute_result"
        }
      ],
      "source": [
        "lrmodel.coef_"
      ]
    },
    {
      "cell_type": "code",
      "execution_count": 22,
      "metadata": {
        "id": "75iRpl6OgHi3",
        "outputId": "22535a31-76a3-4777-86a2-af36c751b5f3"
      },
      "outputs": [
        {
          "data": {
            "text/plain": [
              "-22774052.232095957"
            ]
          },
          "execution_count": 22,
          "metadata": {},
          "output_type": "execute_result"
        }
      ],
      "source": [
        "lrmodel.intercept_"
      ]
    },
    {
      "cell_type": "code",
      "execution_count": 23,
      "metadata": {
        "colab": {
          "base_uri": "https://localhost:8080/"
        },
        "id": "fa4G_u9CgHi3",
        "outputId": "f2e658c3-d0ff-4d91-f76c-cd4b50051200"
      },
      "outputs": [
        {
          "name": "stdout",
          "output_type": "stream",
          "text": [
            "Test error is 86665.2392436503\n"
          ]
        }
      ],
      "source": [
        "# make predictions om test set\n",
        "ypred = lrmodel.predict(x_test)\n",
        "\n",
        "#evaluate the model\n",
        "test_mae = mean_absolute_error(ypred, y_test)\n",
        "print('Test error is', test_mae)"
      ]
    },
    {
      "cell_type": "markdown",
      "metadata": {
        "id": "JgYmClmIgHi3"
      },
      "source": [
        "### Our model is still not good beacuse we need a model with Mean Absolute Error < $70,000\n",
        "\n",
        "Note - We have not scaled the features and not tuned the model."
      ]
    },
    {
      "cell_type": "markdown",
      "metadata": {
        "id": "oi76fp2bgHi3"
      },
      "source": [
        "    "
      ]
    },
    {
      "cell_type": "markdown",
      "metadata": {
        "id": "qiowj-owgHi3"
      },
      "source": [
        "## Decision Tree Model"
      ]
    },
    {
      "cell_type": "code",
      "execution_count": 24,
      "metadata": {
        "id": "vlRpZFYugHi3"
      },
      "outputs": [],
      "source": [
        "# import decision tree model\n",
        "from sklearn.tree import DecisionTreeRegressor"
      ]
    },
    {
      "cell_type": "code",
      "execution_count": 25,
      "metadata": {
        "id": "l8IAvOqxgHi3"
      },
      "outputs": [],
      "source": [
        "# create an instance of the class\n",
        "dt = DecisionTreeRegressor(max_depth=3, max_features=10, random_state=567)"
      ]
    },
    {
      "cell_type": "code",
      "execution_count": 26,
      "metadata": {
        "id": "W7TIvQCOgHi3"
      },
      "outputs": [],
      "source": [
        "# train the model\n",
        "dtmodel = dt.fit(x_train,y_train)"
      ]
    },
    {
      "cell_type": "code",
      "execution_count": 27,
      "metadata": {
        "colab": {
          "base_uri": "https://localhost:8080/"
        },
        "id": "rD8Ulq3Mv4Y5",
        "outputId": "228ea9c2-9b83-47d3-db0e-2cc7b1aeafb5"
      },
      "outputs": [
        {
          "data": {
            "text/plain": [
              "61186.86692028402"
            ]
          },
          "execution_count": 27,
          "metadata": {},
          "output_type": "execute_result"
        }
      ],
      "source": [
        "# make predictions using the test set\n",
        "ytrain_pred = dtmodel.predict(x_train)\n",
        "\n",
        "# evaluate the model\n",
        "train_mae = mean_absolute_error(ytrain_pred, y_train)\n",
        "train_mae"
      ]
    },
    {
      "cell_type": "code",
      "execution_count": 28,
      "metadata": {
        "id": "9fu7mNEogHi4"
      },
      "outputs": [],
      "source": [
        "# make predictions using the test set\n",
        "ytest_pred = dtmodel.predict(x_test)"
      ]
    },
    {
      "cell_type": "code",
      "execution_count": 29,
      "metadata": {
        "colab": {
          "base_uri": "https://localhost:8080/"
        },
        "id": "9oABxlOjgHi4",
        "outputId": "5a5d7158-00c9-4826-d780-4b6a66fdf733"
      },
      "outputs": [
        {
          "data": {
            "text/plain": [
              "61324.42027749216"
            ]
          },
          "execution_count": 29,
          "metadata": {},
          "output_type": "execute_result"
        }
      ],
      "source": [
        "# evaluate the model\n",
        "test_mae = mean_absolute_error(ytest_pred, y_test)\n",
        "test_mae"
      ]
    },
    {
      "cell_type": "markdown",
      "metadata": {
        "id": "280fV8jJgHi4"
      },
      "source": [
        "## How do I know if my model is Overfitting or Generalised?"
      ]
    },
    {
      "cell_type": "code",
      "execution_count": 30,
      "metadata": {
        "id": "Jdl2kpwJgHi4"
      },
      "outputs": [],
      "source": [
        "# make predictions on train set\n",
        "ytrain_pred = dtmodel.predict(x_train)"
      ]
    },
    {
      "cell_type": "code",
      "execution_count": 31,
      "metadata": {
        "id": "1xRtK9yCgHi4",
        "outputId": "aa67bd18-7195-4838-9ddc-5b20e058f785"
      },
      "outputs": [
        {
          "data": {
            "text/plain": [
              "61186.86692028402"
            ]
          },
          "execution_count": 31,
          "metadata": {},
          "output_type": "execute_result"
        }
      ],
      "source": [
        "# import mean absolute error metric\n",
        "from sklearn.metrics import mean_absolute_error\n",
        "\n",
        "# evaluate the model\n",
        "train_mae = mean_absolute_error(ytrain_pred, y_train)\n",
        "train_mae"
      ]
    },
    {
      "cell_type": "markdown",
      "metadata": {
        "id": "LCySzmV3gHi4"
      },
      "source": [
        "    "
      ]
    },
    {
      "cell_type": "markdown",
      "metadata": {
        "id": "d19VdhMsgHi4"
      },
      "source": [
        "## Plot the tree"
      ]
    },
    {
      "cell_type": "code",
      "execution_count": 32,
      "metadata": {
        "id": "wdxw0gEpgHi4",
        "outputId": "ceba52c7-7f3d-4f52-f6f1-0fa0c4dc0324"
      },
      "outputs": [
        {
          "data": {
            "text/plain": [
              "array(['year_sold', 'property_tax', 'insurance', 'beds', 'baths', 'sqft',\n",
              "       'year_built', 'lot_size', 'basement', 'popular', 'recession',\n",
              "       'property_age', 'property_type_Bunglow', 'property_type_Condo'],\n",
              "      dtype=object)"
            ]
          },
          "execution_count": 32,
          "metadata": {},
          "output_type": "execute_result"
        }
      ],
      "source": [
        "# get the features\n",
        "dtmodel.feature_names_in_"
      ]
    },
    {
      "cell_type": "code",
      "execution_count": 33,
      "metadata": {
        "id": "-kq6OpkBgHi4",
        "outputId": "e5ac2d44-301d-4128-f646-7d00fa3fa1f8"
      },
      "outputs": [
        {
          "data": {
            "image/png": "[encoded data removed]",
            "text/plain": [
              "<Figure size 640x480 with 1 Axes>"
            ]
          },
          "metadata": {},
          "output_type": "display_data"
        }
      ],
      "source": [
        "# plot the tree\n",
        "from sklearn import tree\n",
        "\n",
        "# Plot the tree with feature names\n",
        "tree.plot_tree(dtmodel, feature_names=dtmodel.feature_names_in_)\n",
        "\n",
        "#tree.plot_tree(dtmodel)\n",
        "#plt.show(dpi=300)\n",
        "\n",
        "# Save the plot to a file\n",
        "plt.savefig('tree.png', dpi=300)"
      ]
    },
    {
      "cell_type": "markdown",
      "metadata": {
        "id": "15XUHv9QgHi4"
      },
      "source": [
        "    "
      ]
    },
    {
      "cell_type": "markdown",
      "metadata": {
        "id": "q8wqXk2ugHi4"
      },
      "source": [
        "    "
      ]
    },
    {
      "cell_type": "markdown",
      "metadata": {
        "id": "Yx6yqdfpgHi4"
      },
      "source": [
        "    "
      ]
    },
    {
      "cell_type": "markdown",
      "metadata": {
        "id": "EjN-nxzEgHi4"
      },
      "source": [
        "## Random Forest Model"
      ]
    },
    {
      "cell_type": "code",
      "execution_count": 34,
      "metadata": {
        "id": "RkCzXpLtgHi4"
      },
      "outputs": [],
      "source": [
        "# import decision tree model\n",
        "from sklearn.ensemble import RandomForestRegressor"
      ]
    },
    {
      "cell_type": "code",
      "execution_count": 35,
      "metadata": {
        "id": "UDqTPGiegHi4"
      },
      "outputs": [],
      "source": [
        "# create an instance of the model\n",
        "rf = RandomForestRegressor(n_estimators=200, criterion='absolute_error')"
      ]
    },
    {
      "cell_type": "code",
      "execution_count": 36,
      "metadata": {
        "id": "oG__jXNegHi4"
      },
      "outputs": [],
      "source": [
        "# train the model\n",
        "rfmodel = rf.fit(x_train,y_train)"
      ]
    },
    {
      "cell_type": "code",
      "execution_count": 37,
      "metadata": {
        "id": "UgTc0Er-gHi8"
      },
      "outputs": [],
      "source": [
        "# make prediction on train set\n",
        "ytrain_pred = rfmodel.predict(x_train)"
      ]
    },
    {
      "cell_type": "code",
      "execution_count": 38,
      "metadata": {
        "id": "1miSLAHkgHi8"
      },
      "outputs": [],
      "source": [
        "# make predictions on the x_test values\n",
        "ytest_pred = rfmodel.predict(x_test)"
      ]
    },
    {
      "cell_type": "code",
      "execution_count": 39,
      "metadata": {
        "id": "nTH6sOeAgHi8",
        "outputId": "7f2c3f10-4148-4eaf-f051-afccd71da6bb"
      },
      "outputs": [
        {
          "data": {
            "text/plain": [
              "41628.31512064343"
            ]
          },
          "execution_count": 39,
          "metadata": {},
          "output_type": "execute_result"
        }
      ],
      "source": [
        "# evaluate the model\n",
        "test_mae = mean_absolute_error(ytest_pred, y_test)\n",
        "test_mae"
      ]
    },
    {
      "cell_type": "code",
      "execution_count": 40,
      "metadata": {
        "id": "u10aeWWxgHi9"
      },
      "outputs": [],
      "source": [
        "# Individual Decision Trees\n",
        "# tree.plot_tree(rfmodel.estimators_[2], feature_names=dtmodel.feature_names_in_)"
      ]
    },
    {
      "cell_type": "markdown",
      "metadata": {
        "id": "tc8OXZNzgHi9"
      },
      "source": [
        "    "
      ]
    },
    {
      "cell_type": "markdown",
      "metadata": {
        "id": "vVZsubYogHi9"
      },
      "source": [
        "## Pickle:\n",
        "\n",
        "* The pickle module implements a powerful algorithm for serializing and de-serializing a Python object structure.\n",
        "\n",
        "* The saving of data is called Serialization, and loading the data is called De-serialization.\n",
        "\n",
        "**Pickle** model provides the following functions:\n",
        "* **`pickle.dump`** to serialize an object hierarchy, you simply use `dump()`.\n",
        "* **`pickle.load`** to deserialize a data stream, you call the `loads()` function."
      ]
    },
    {
      "cell_type": "code",
      "execution_count": 44,
      "metadata": {
        "id": "WmM7wJIbgHi9"
      },
      "outputs": [],
      "source": [
        "# import pickle to save model\n",
        "import pickle\n",
        "\n",
        "# Save the trained model on the drive\n",
        "pickle.dump(dtmodel, open('RE_Model.pkl','wb'))"
      ]
    },
    {
      "cell_type": "code",
      "execution_count": 47,
      "metadata": {
        "id": "smF0TQ66gHi9"
      },
      "outputs": [],
      "source": [
        "# Load the pickled model\n",
        "RE_Model = pickle.load(open('RE_Model.pkl','rb'))"
      ]
    },
    {
      "cell_type": "code",
      "execution_count": 48,
      "metadata": {},
      "outputs": [
        {
          "name": "stdout",
          "output_type": "stream",
          "text": [
            "<class 'sklearn.tree._classes.DecisionTreeRegressor'>\n"
          ]
        }
      ],
      "source": [
        "print(type(RE_Model))\n"
      ]
    },
    {
      "cell_type": "raw",
      "metadata": {
        "id": "dzEe7uzvgHi9"
      },
      "source": [
        "np.array(xtrain.loc[22])\n",
        "ytrain[22]"
      ]
    },
    {
      "cell_type": "code",
      "execution_count": 50,
      "metadata": {},
      "outputs": [
        {
          "name": "stderr",
          "output_type": "stream",
          "text": [
            "c:\\Users\\Arasu\\anaconda3\\Lib\\site-packages\\sklearn\\base.py:493: UserWarning: X does not have valid feature names, but DecisionTreeRegressor was fitted with feature names\n",
            "  warnings.warn(\n"
          ]
        },
        {
          "data": {
            "text/plain": [
              "array([264857.31746032])"
            ]
          },
          "execution_count": 50,
          "metadata": {},
          "output_type": "execute_result"
        }
      ],
      "source": [
        "RE_Model.predict([[2012, 216, 74, 1 , 1, 618, 2000, 600, 1, 0, 0, 6, 0,1]])"
      ]
    },
    {
      "cell_type": "code",
      "execution_count": 49,
      "metadata": {
        "colab": {
          "base_uri": "https://localhost:8080/",
          "height": 100
        },
        "id": "R7EWTeTtxQy4",
        "outputId": "b16e559d-25db-46a2-b095-08237ef5caab"
      },
      "outputs": [
        {
          "data": {
            "text/html": [
              "<div>\n",
              "<style scoped>\n",
              "    .dataframe tbody tr th:only-of-type {\n",
              "        vertical-align: middle;\n",
              "    }\n",
              "\n",
              "    .dataframe tbody tr th {\n",
              "        vertical-align: top;\n",
              "    }\n",
              "\n",
              "    .dataframe thead th {\n",
              "        text-align: right;\n",
              "    }\n",
              "</style>\n",
              "<table border=\"1\" class=\"dataframe\">\n",
              "  <thead>\n",
              "    <tr style=\"text-align: right;\">\n",
              "      <th></th>\n",
              "      <th>year_sold</th>\n",
              "      <th>property_tax</th>\n",
              "      <th>insurance</th>\n",
              "      <th>beds</th>\n",
              "      <th>baths</th>\n",
              "      <th>sqft</th>\n",
              "      <th>year_built</th>\n",
              "      <th>lot_size</th>\n",
              "      <th>basement</th>\n",
              "      <th>popular</th>\n",
              "      <th>recession</th>\n",
              "      <th>property_age</th>\n",
              "      <th>property_type_Bunglow</th>\n",
              "      <th>property_type_Condo</th>\n",
              "    </tr>\n",
              "  </thead>\n",
              "  <tbody>\n",
              "    <tr>\n",
              "      <th>1085</th>\n",
              "      <td>2011</td>\n",
              "      <td>520</td>\n",
              "      <td>158</td>\n",
              "      <td>4</td>\n",
              "      <td>2</td>\n",
              "      <td>2300</td>\n",
              "      <td>1970</td>\n",
              "      <td>15245</td>\n",
              "      <td>1</td>\n",
              "      <td>0</td>\n",
              "      <td>1</td>\n",
              "      <td>41</td>\n",
              "      <td>1</td>\n",
              "      <td>0</td>\n",
              "    </tr>\n",
              "  </tbody>\n",
              "</table>\n",
              "</div>"
            ],
            "text/plain": [
              "      year_sold  property_tax  insurance  beds  baths  sqft  year_built  \\\n",
              "1085       2011           520        158     4      2  2300        1970   \n",
              "\n",
              "      lot_size  basement  popular  recession  property_age  \\\n",
              "1085     15245         1        0          1            41   \n",
              "\n",
              "      property_type_Bunglow  property_type_Condo  \n",
              "1085                      1                    0  "
            ]
          },
          "execution_count": 49,
          "metadata": {},
          "output_type": "execute_result"
        }
      ],
      "source": [
        "x_test.head(1)"
      ]
    },
    {
      "cell_type": "code",
      "execution_count": null,
      "metadata": {
        "id": "kURtIelWgHi9"
      },
      "outputs": [],
      "source": []
    }
  ],
  "metadata": {
    "anaconda-cloud": {},
    "colab": {
      "provenance": []
    },
    "kernelspec": {
      "display_name": "base",
      "language": "python",
      "name": "python3"
    },
    "language_info": {
      "codemirror_mode": {
        "name": "ipython",
        "version": 3
      },
      "file_extension": ".py",
      "mimetype": "text/x-python",
      "name": "python",
      "nbconvert_exporter": "python",
      "pygments_lexer": "ipython3",
      "version": "3.12.4"
    }
  },
  "nbformat": 4,
  "nbformat_minor": 0
}
